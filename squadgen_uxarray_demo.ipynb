{
 "cells": [
  {
   "cell_type": "markdown",
   "metadata": {},
   "source": [
    "# SQuadGen + uxarray Mesh Demo\n",
    "\n",
    "This notebook demonstrates how to:\n",
    "\n",
    "- Clone and build [SQuadGen](https://github.com/MPAS-Dev/SQuadGen)\n",
    "- Generate a regionally refined mesh using SQuadGen\n",
    "- Visualize the mesh using [uxarray](https://github.com/UXARRAY/uxarray)\n",
    "\n",
    "## Mesh Generation Steps\n",
    "\n",
    "```sh\n",
    "# Clone and build SQuadGen\n",
    "git clone https://github.com/MPAS-Dev/SQuadGen.git\n",
    "cd SQuadGen/src\n",
    "make\n",
    "\n",
    "# Generate a regionally refined mesh\n",
    "cd ..\n",
    "./SQuadGen --grid_type CS --refine_type LOWCONN --refine_level 2 --resolution 10 --output output_mesh.nc --refine_rect \"-110.0,35.0,-105.0,40.0,2\"\n",
    "```\n",
    "\n",
    "This creates `output_mesh.nc` in the SQuadGen directory.\n"
   ]
  },
  {
   "cell_type": "code",
   "execution_count": null,
   "metadata": {},
   "outputs": [],
   "source": [
    "import subprocess\n",
    "import os\n",
    "\n",
    "# Only run if SQuadGen and mesh do not exist\n",
    "if not os.path.exists('output_mesh.nc') and os.path.exists('SQuadGen'):\n",
    "    cmd = ['./SQuadGen', '--grid_type', 'CS', '--refine_type', 'LOWCONN', '--refine_level', '2', '--resolution', '10', '--output', 'output_mesh.nc', '--refine_rect', '-110.0,35.0,-105.0,40.0,2']\n",
    "    print('Generating regionally refined mesh with SQuadGen...')\n",
    "    subprocess.run(cmd, check=True)\n",
    "else:\n",
    "    print('Mesh already exists or SQuadGen not found, skipping generation.')"
   ]
  },
  {
   "cell_type": "code",
   "execution_count": null,
   "metadata": {},
   "outputs": [],
   "source": [
    "import uxarray as ux\n",
    "import matplotlib.pyplot as plt\n",
    "\n",
    "mesh_file = 'output_mesh.nc'\n",
    "\n",
    "if not os.path.exists(mesh_file):\n",
    "    print(f'Mesh file not found: {mesh_file}')\n",
    "else:\n",
    "    mesh = ux.open_mesh(mesh_file)\n",
    "    mesh.plot(face_kws=dict(edgecolor='k', linewidth=0.5))\n",
    "    plt.title('SquadGen Regionally Refined Mesh')\n",
    "    plt.show()\n",
    "    print(mesh)"
   ]
  }
 ],
 "metadata": {
  "kernelspec": {
   "display_name": "Python 3",
   "language": "python",
   "name": "python3"
  },
  "language_info": {
   "name": "python",
   "version": "3.12"
  }
 },
 "nbformat": 4,
 "nbformat_minor": 5
}
